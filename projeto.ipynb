{
  "nbformat": 4,
  "nbformat_minor": 0,
  "metadata": {
    "colab": {
      "provenance": [],
      "include_colab_link": true
    },
    "kernelspec": {
      "name": "python3",
      "display_name": "Python 3"
    },
    "language_info": {
      "name": "python"
    }
  },
  "cells": [
    {
      "cell_type": "markdown",
      "metadata": {
        "id": "view-in-github",
        "colab_type": "text"
      },
      "source": [
        "<a href=\"https://colab.research.google.com/github/beabritw/ProjetoIntegrador/blob/main/projeto.ipynb\" target=\"_parent\"><img src=\"https://colab.research.google.com/assets/colab-badge.svg\" alt=\"Open In Colab\"/></a>"
      ]
    },
    {
      "cell_type": "code",
      "source": [
        "import cv2\n",
        "import numpy as np\n",
        "from google.colab import files\n",
        "from IPython.display import Image"
      ],
      "metadata": {
        "id": "_2KocxMDnSKF"
      },
      "execution_count": null,
      "outputs": []
    },
    {
      "cell_type": "code",
      "source": [
        "def tabela(cor_Hex):\n",
        "    tabela_cores = {\n",
        "        \"extre_branca\": [\n",
        "            \"#ead8c4\", \"#edd8c5\", \"#eed7c7\", \"#f0d6c9\", \"#f2d6cb\", \"#f5c4cd\", \"#e0c8ae\",\n",
        "            \"#e1c7ae\", \"#e5c6b1\", \"#e6c5b2\", \"#e9c3b6\"\n",
        "        ],\n",
        "        \"branca\": [\n",
        "            \"#eac2ba\", \"#d2b897\", \"#d5b699\", \"#d9b59b\", \"#dcb39f\", \"#c4a682\", \"#cba487\",\n",
        "            \"#cfa28b\"\n",
        "        ],\n",
        "        \"morena_clara\": [\n",
        "            \"#d1a08f\", \"#d4a093\", \"#b4976f\", \"#b89470\", \"#bd9174\", \"#c38f7a\", \"#c68d82\",\n",
        "            \"#a5855e\", \"#a7835f\", \"#ac8063\"\n",
        "        ],\n",
        "        \"media\": [\n",
        "            \"#baf8066\", \"#b27e69\", \"#b67c70\", \"#a7835f\", \"#95734e\", \"#9a7153\", \"#9d6f55\",\n",
        "            \"#a16e5b\", \"#a36a5f\", \"#80643d\", \"#836241\"\n",
        "        ],\n",
        "        \"morena_escura\": [\n",
        "            \"#876043\", \"#8b5f46\", \"#8d5c4b\", \"#905c4f\", \"#6d5533\", \"#715235\", \"#745036\",\n",
        "            \"#754f38\", \"#784d3d\", \"#7b4b41\", \"#594427\"\n",
        "        ],\n",
        "        \"negra\": [\n",
        "            \"#5d412b\", \"#61402d\", \"#594427\", \"#453420\", \"#463420\", \"#4e2f2a\"\n",
        "        ]\n",
        "    }\n",
        "\n",
        "    # Função para calcular a diferença entre duas cores hexadecimais\n",
        "    def diferenca_cor(cor1, cor2):\n",
        "        r1, g1, b1 = int(cor1[1:3], 16), int(cor1[3:5], 16), int(cor1[5:], 16)\n",
        "        r2, g2, b2 = int(cor2[1:3], 16), int(cor2[3:5], 16), int(cor2[5:], 16)\n",
        "        return ((r1 - r2) ** 2 + (g1 - g2) ** 2 + (b1 - b2) ** 2) ** 0.5\n",
        "\n",
        "    cor_mais_proxima = None\n",
        "    menor_diferenca = float('inf')\n",
        "    tipo_cor = None\n",
        "\n",
        "    # Itera sobre as cores na tabela e encontra a mais próxima\n",
        "    for categoria, cores in tabela_cores.items():\n",
        "        for cor in cores:\n",
        "            diferenca = diferenca_cor(cor_Hex, cor)\n",
        "            if diferenca < menor_diferenca:\n",
        "                cor_mais_proxima = cor\n",
        "                menor_diferenca = diferenca\n",
        "                tipo_cor = categoria\n",
        "\n",
        "    # Se a cor não estiver na tabela, retorna a cor mais próxima e o tipo de cor\n",
        "    if tipo_cor:\n",
        "        return tipo_cor\n",
        "    else:\n",
        "        return cor_mais_proxima\n",
        "\n"
      ],
      "metadata": {
        "id": "9KpmxkR0h1K4"
      },
      "execution_count": null,
      "outputs": []
    },
    {
      "cell_type": "code",
      "source": [
        "\n",
        "# Faz upload da imagem para o Colab\n",
        "uploaded = files.upload()\n",
        "\n",
        "# Carrega a imagem\n",
        "for filename in uploaded.keys():\n",
        "    image = cv2.imread(filename)\n",
        "\n",
        "# Converte a imagem para o espaço de cor HSV\n",
        "hsv_image = cv2.cvtColor(image, cv2.COLOR_BGR2HSV)\n",
        "\n",
        "# Define os intervalos de cor para a pele\n",
        "lower_skin = np.array([0, 48, 80], dtype=np.uint8)\n",
        "upper_skin = np.array([20, 255, 255], dtype=np.uint8)\n",
        "\n",
        "# Cria uma máscara para a cor da pele na imagem HSV\n",
        "skin_mask = cv2.inRange(hsv_image, lower_skin, upper_skin)\n",
        "\n",
        "# Aplica a máscara na imagem original\n",
        "skin_segmented_image = cv2.bitwise_and(image, image, mask=skin_mask)\n",
        "\n",
        "# Converte a imagem segmentada para escala de cinza\n",
        "gray_image = cv2.cvtColor(skin_segmented_image, cv2.COLOR_BGR2GRAY)\n",
        "\n",
        "# Carrega o classificador pré-treinado para detecção de rostos\n",
        "face_cascade = cv2.CascadeClassifier(cv2.data.haarcascades + 'haarcascade_frontalface_default.xml')\n",
        "\n",
        "# Detecta rostos na imagem segmentada\n",
        "faces = face_cascade.detectMultiScale(gray_image, scaleFactor=1.1, minNeighbors=5, minSize=(30, 30))\n",
        "\n",
        "# Desenha um retângulo ao redor de cada rosto detectado na imagem original\n",
        "for (x, y, w, h) in faces:\n",
        "    cv2.rectangle(image, (x, y), (x+w, y+h), (255, 0, 0), 2)\n",
        "# Salva a imagem com os rostos detectados\n",
        "cv2.imwrite('output_segmented.jpg', image)\n",
        "\n",
        "# Calcula a média das cores da pele dos rostos detectados\n",
        "mean_skin_colors = []\n",
        "\n",
        "for (x, y, w, h) in faces:\n",
        "    # Extrai a região do rosto da imagem original\n",
        "    face_roi = image[y:y+h, x:x+w]\n",
        "    # Calcula a média das cores da região do rosto\n",
        "    mean_color = cv2.mean(face_roi)[:3]\n",
        "    #mean_color[:3][::-1]  em rgb\n",
        "    mean_skin_colors.append(mean_color)\n",
        "\n",
        "# Cria uma imagem em branco para exibir as cores médias da pele\n",
        "height = len(mean_skin_colors) * 50\n",
        "mean_skin_colors_image = np.zeros((height, 200, 3), dtype=np.uint8)\n",
        "\n",
        "# Preenche a imagem com as cores médias da pele\n",
        "for i, color in enumerate(mean_skin_colors):\n",
        "    mean_skin_colors_image[i*50:i*50+50, :] = color\n",
        "\n",
        "# Salva a imagem com as cores médias da pele\n",
        "cv2.imwrite('mean_skin_colors.jpg', mean_skin_colors_image)\n",
        "\n",
        "# Converte a média das cores de BGR para RGB\n",
        "mean_color_rgb = mean_color[:3][::-1]\n",
        "\n",
        "# Converte as cores de RGB para hexadecimal\n",
        "mean_color_hex = '#{:02x}{:02x}{:02x}'.format(int(mean_color_rgb[0]), int(mean_color_rgb[1]), int(mean_color_rgb[2]))\n",
        "\n",
        "print(\"Média das cores da pele (Hexadecimal):\", mean_color_hex)\n"
      ],
      "metadata": {
        "colab": {
          "base_uri": "https://localhost:8080/",
          "height": 90
        },
        "id": "L_yn2Y-IUGiN",
        "outputId": "9ad2eea6-8926-4c0f-96c4-8c521d363e5b"
      },
      "execution_count": null,
      "outputs": [
        {
          "output_type": "display_data",
          "data": {
            "text/plain": [
              "<IPython.core.display.HTML object>"
            ],
            "text/html": [
              "\n",
              "     <input type=\"file\" id=\"files-2e6977cd-aed5-4e9f-82aa-b42cc7e90d6e\" name=\"files[]\" multiple disabled\n",
              "        style=\"border:none\" />\n",
              "     <output id=\"result-2e6977cd-aed5-4e9f-82aa-b42cc7e90d6e\">\n",
              "      Upload widget is only available when the cell has been executed in the\n",
              "      current browser session. Please rerun this cell to enable.\n",
              "      </output>\n",
              "      <script>// Copyright 2017 Google LLC\n",
              "//\n",
              "// Licensed under the Apache License, Version 2.0 (the \"License\");\n",
              "// you may not use this file except in compliance with the License.\n",
              "// You may obtain a copy of the License at\n",
              "//\n",
              "//      http://www.apache.org/licenses/LICENSE-2.0\n",
              "//\n",
              "// Unless required by applicable law or agreed to in writing, software\n",
              "// distributed under the License is distributed on an \"AS IS\" BASIS,\n",
              "// WITHOUT WARRANTIES OR CONDITIONS OF ANY KIND, either express or implied.\n",
              "// See the License for the specific language governing permissions and\n",
              "// limitations under the License.\n",
              "\n",
              "/**\n",
              " * @fileoverview Helpers for google.colab Python module.\n",
              " */\n",
              "(function(scope) {\n",
              "function span(text, styleAttributes = {}) {\n",
              "  const element = document.createElement('span');\n",
              "  element.textContent = text;\n",
              "  for (const key of Object.keys(styleAttributes)) {\n",
              "    element.style[key] = styleAttributes[key];\n",
              "  }\n",
              "  return element;\n",
              "}\n",
              "\n",
              "// Max number of bytes which will be uploaded at a time.\n",
              "const MAX_PAYLOAD_SIZE = 100 * 1024;\n",
              "\n",
              "function _uploadFiles(inputId, outputId) {\n",
              "  const steps = uploadFilesStep(inputId, outputId);\n",
              "  const outputElement = document.getElementById(outputId);\n",
              "  // Cache steps on the outputElement to make it available for the next call\n",
              "  // to uploadFilesContinue from Python.\n",
              "  outputElement.steps = steps;\n",
              "\n",
              "  return _uploadFilesContinue(outputId);\n",
              "}\n",
              "\n",
              "// This is roughly an async generator (not supported in the browser yet),\n",
              "// where there are multiple asynchronous steps and the Python side is going\n",
              "// to poll for completion of each step.\n",
              "// This uses a Promise to block the python side on completion of each step,\n",
              "// then passes the result of the previous step as the input to the next step.\n",
              "function _uploadFilesContinue(outputId) {\n",
              "  const outputElement = document.getElementById(outputId);\n",
              "  const steps = outputElement.steps;\n",
              "\n",
              "  const next = steps.next(outputElement.lastPromiseValue);\n",
              "  return Promise.resolve(next.value.promise).then((value) => {\n",
              "    // Cache the last promise value to make it available to the next\n",
              "    // step of the generator.\n",
              "    outputElement.lastPromiseValue = value;\n",
              "    return next.value.response;\n",
              "  });\n",
              "}\n",
              "\n",
              "/**\n",
              " * Generator function which is called between each async step of the upload\n",
              " * process.\n",
              " * @param {string} inputId Element ID of the input file picker element.\n",
              " * @param {string} outputId Element ID of the output display.\n",
              " * @return {!Iterable<!Object>} Iterable of next steps.\n",
              " */\n",
              "function* uploadFilesStep(inputId, outputId) {\n",
              "  const inputElement = document.getElementById(inputId);\n",
              "  inputElement.disabled = false;\n",
              "\n",
              "  const outputElement = document.getElementById(outputId);\n",
              "  outputElement.innerHTML = '';\n",
              "\n",
              "  const pickedPromise = new Promise((resolve) => {\n",
              "    inputElement.addEventListener('change', (e) => {\n",
              "      resolve(e.target.files);\n",
              "    });\n",
              "  });\n",
              "\n",
              "  const cancel = document.createElement('button');\n",
              "  inputElement.parentElement.appendChild(cancel);\n",
              "  cancel.textContent = 'Cancel upload';\n",
              "  const cancelPromise = new Promise((resolve) => {\n",
              "    cancel.onclick = () => {\n",
              "      resolve(null);\n",
              "    };\n",
              "  });\n",
              "\n",
              "  // Wait for the user to pick the files.\n",
              "  const files = yield {\n",
              "    promise: Promise.race([pickedPromise, cancelPromise]),\n",
              "    response: {\n",
              "      action: 'starting',\n",
              "    }\n",
              "  };\n",
              "\n",
              "  cancel.remove();\n",
              "\n",
              "  // Disable the input element since further picks are not allowed.\n",
              "  inputElement.disabled = true;\n",
              "\n",
              "  if (!files) {\n",
              "    return {\n",
              "      response: {\n",
              "        action: 'complete',\n",
              "      }\n",
              "    };\n",
              "  }\n",
              "\n",
              "  for (const file of files) {\n",
              "    const li = document.createElement('li');\n",
              "    li.append(span(file.name, {fontWeight: 'bold'}));\n",
              "    li.append(span(\n",
              "        `(${file.type || 'n/a'}) - ${file.size} bytes, ` +\n",
              "        `last modified: ${\n",
              "            file.lastModifiedDate ? file.lastModifiedDate.toLocaleDateString() :\n",
              "                                    'n/a'} - `));\n",
              "    const percent = span('0% done');\n",
              "    li.appendChild(percent);\n",
              "\n",
              "    outputElement.appendChild(li);\n",
              "\n",
              "    const fileDataPromise = new Promise((resolve) => {\n",
              "      const reader = new FileReader();\n",
              "      reader.onload = (e) => {\n",
              "        resolve(e.target.result);\n",
              "      };\n",
              "      reader.readAsArrayBuffer(file);\n",
              "    });\n",
              "    // Wait for the data to be ready.\n",
              "    let fileData = yield {\n",
              "      promise: fileDataPromise,\n",
              "      response: {\n",
              "        action: 'continue',\n",
              "      }\n",
              "    };\n",
              "\n",
              "    // Use a chunked sending to avoid message size limits. See b/62115660.\n",
              "    let position = 0;\n",
              "    do {\n",
              "      const length = Math.min(fileData.byteLength - position, MAX_PAYLOAD_SIZE);\n",
              "      const chunk = new Uint8Array(fileData, position, length);\n",
              "      position += length;\n",
              "\n",
              "      const base64 = btoa(String.fromCharCode.apply(null, chunk));\n",
              "      yield {\n",
              "        response: {\n",
              "          action: 'append',\n",
              "          file: file.name,\n",
              "          data: base64,\n",
              "        },\n",
              "      };\n",
              "\n",
              "      let percentDone = fileData.byteLength === 0 ?\n",
              "          100 :\n",
              "          Math.round((position / fileData.byteLength) * 100);\n",
              "      percent.textContent = `${percentDone}% done`;\n",
              "\n",
              "    } while (position < fileData.byteLength);\n",
              "  }\n",
              "\n",
              "  // All done.\n",
              "  yield {\n",
              "    response: {\n",
              "      action: 'complete',\n",
              "    }\n",
              "  };\n",
              "}\n",
              "\n",
              "scope.google = scope.google || {};\n",
              "scope.google.colab = scope.google.colab || {};\n",
              "scope.google.colab._files = {\n",
              "  _uploadFiles,\n",
              "  _uploadFilesContinue,\n",
              "};\n",
              "})(self);\n",
              "</script> "
            ]
          },
          "metadata": {}
        },
        {
          "output_type": "stream",
          "name": "stdout",
          "text": [
            "Saving images (1).jpeg to images (1) (1).jpeg\n",
            "Média das cores da pele (Hexadecimal): #523e41\n"
          ]
        }
      ]
    },
    {
      "cell_type": "code",
      "source": [
        "# Exibe a imagem com as cores médias da pele\n",
        "Image('mean_skin_colors.jpg',)"
      ],
      "metadata": {
        "id": "oGI0YLqdoVR3",
        "colab": {
          "base_uri": "https://localhost:8080/",
          "height": 67
        },
        "outputId": "f8a129d2-0976-4160-9124-e4d6c93a3b98"
      },
      "execution_count": null,
      "outputs": [
        {
          "output_type": "execute_result",
          "data": {
            "image/jpeg": "[encoded data removed]",
            "text/plain": [
              "<IPython.core.display.Image object>"
            ]
          },
          "metadata": {},
          "execution_count": 27
        }
      ]
    },
    {
      "cell_type": "code",
      "source": [
        "# Exibe a imagem com os rostos detectados\n",
        "Image('output_segmented.jpg')"
      ],
      "metadata": {
        "colab": {
          "base_uri": "https://localhost:8080/",
          "height": 242
        },
        "id": "cDUNRulThQkM",
        "outputId": "9913b478-ceca-450d-bca8-82341a4fd0de"
      },
      "execution_count": null,
      "outputs": [
        {
          "output_type": "execute_result",
          "data": {
            "image/jpeg": "[encoded data removed]",
            "text/plain": [
              "<IPython.core.display.Image object>"
            ]
          },
          "metadata": {},
          "execution_count": 28
        }
      ]
    },
    {
      "cell_type": "code",
      "source": [
        "tabela(mean_color_hex)"
      ],
      "metadata": {
        "colab": {
          "base_uri": "https://localhost:8080/",
          "height": 35
        },
        "id": "3R-MXO8xhmKs",
        "outputId": "21b44e05-6c5a-4935-a690-17b636381138"
      },
      "execution_count": null,
      "outputs": [
        {
          "output_type": "execute_result",
          "data": {
            "text/plain": [
              "'negra'"
            ],
            "application/vnd.google.colaboratory.intrinsic+json": {
              "type": "string"
            }
          },
          "metadata": {},
          "execution_count": 29
        }
      ]
    },
    {
      "cell_type": "code",
      "source": [],
      "metadata": {
        "id": "CC3zIk-7hnC-"
      },
      "execution_count": null,
      "outputs": []
    }
  ]
}